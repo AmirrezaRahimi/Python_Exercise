{
 "cells": [
  {
   "cell_type": "markdown",
   "id": "b3795c4c",
   "metadata": {},
   "source": [
    "## Exercise 01"
   ]
  },
  {
   "cell_type": "code",
   "execution_count": 1,
   "id": "46067c65",
   "metadata": {},
   "outputs": [],
   "source": [
    "ages = [19, 22, 19, 24, 20, 25, 26, 24, 25, 24]"
   ]
  },
  {
   "cell_type": "code",
   "execution_count": 2,
   "id": "aca722b6",
   "metadata": {},
   "outputs": [
    {
     "name": "stdout",
     "output_type": "stream",
     "text": [
      "sorted list: [19, 19, 20, 22, 24, 24, 24, 25, 25, 26]\n",
      "minimum: 19\n",
      "maximum: 26\n"
     ]
    }
   ],
   "source": [
    "# 1\n",
    "## Bubble Sort\n",
    "n = len(ages)\n",
    "for i in range(n):\n",
    "    already_sorted = True\n",
    "    for j in range(n - i - 1):\n",
    "        if ages[j] > ages[j + 1]:\n",
    "            ages[j], ages[j + 1] = ages[j + 1], ages[j]\n",
    "            already_sorted = False\n",
    "    if already_sorted:\n",
    "        break\n",
    "print (f'sorted list: {ages}')\n",
    "minimum = ages[0]\n",
    "print (f'minimum: {minimum}')\n",
    "maximum = ages[-1]\n",
    "print (f'maximum: {maximum}')"
   ]
  },
  {
   "cell_type": "code",
   "execution_count": 3,
   "id": "0b393616",
   "metadata": {},
   "outputs": [
    {
     "name": "stdout",
     "output_type": "stream",
     "text": [
      "new list: [19, 19, 19, 20, 22, 24, 24, 24, 25, 25, 26, 26]\n"
     ]
    }
   ],
   "source": [
    "## 2\n",
    "ages.insert(0,minimum)\n",
    "ages.append(maximum)\n",
    "print (f'new list: {ages}')"
   ]
  },
  {
   "cell_type": "code",
   "execution_count": 12,
   "id": "6dbdb43c",
   "metadata": {},
   "outputs": [
    {
     "name": "stdout",
     "output_type": "stream",
     "text": [
      "median: 24.0\n"
     ]
    }
   ],
   "source": [
    "length = len(ages)\n",
    "if length%2 == 0:\n",
    "    median = (ages[length//2]+ages[length//2+1])/2\n",
    "else:\n",
    "    median = ages[length//2]\n",
    "print(f'median: {median}')"
   ]
  },
  {
   "cell_type": "code",
   "execution_count": 15,
   "id": "40eb99af",
   "metadata": {},
   "outputs": [
    {
     "name": "stdout",
     "output_type": "stream",
     "text": [
      "average: 22.75\n"
     ]
    }
   ],
   "source": [
    "numbers = length\n",
    "sumation = sum(ages)\n",
    "average = sumation / numbers\n",
    "print(f'average: {average}')"
   ]
  },
  {
   "cell_type": "code",
   "execution_count": 18,
   "id": "bbd9837e",
   "metadata": {},
   "outputs": [
    {
     "name": "stdout",
     "output_type": "stream",
     "text": [
      "range: 7\n"
     ]
    }
   ],
   "source": [
    "maximum , minimum = ages[-1] , ages[0]\n",
    "_range = maximum - minimum\n",
    "print(f'range: {_range}')"
   ]
  },
  {
   "cell_type": "code",
   "execution_count": 21,
   "id": "adce6379",
   "metadata": {},
   "outputs": [
    {
     "name": "stdout",
     "output_type": "stream",
     "text": [
      "\"minimum - average\" is bigger than \"maximum - average\"\n"
     ]
    }
   ],
   "source": [
    "if abs(maximum - average) > abs(minimum - average):\n",
    "    print('\"maximum - average\" is bigger than \"minimum - average\"')\n",
    "elif abs(maximum - average) < abs(minimum - average):\n",
    "    print('\"minimum - average\" is bigger than \"maximum - average\"')\n",
    "else:\n",
    "    print('They are equal')"
   ]
  }
 ],
 "metadata": {
  "kernelspec": {
   "display_name": "Python 3 (ipykernel)",
   "language": "python",
   "name": "python3"
  },
  "language_info": {
   "codemirror_mode": {
    "name": "ipython",
    "version": 3
   },
   "file_extension": ".py",
   "mimetype": "text/x-python",
   "name": "python",
   "nbconvert_exporter": "python",
   "pygments_lexer": "ipython3",
   "version": "3.10.6"
  }
 },
 "nbformat": 4,
 "nbformat_minor": 5
}
