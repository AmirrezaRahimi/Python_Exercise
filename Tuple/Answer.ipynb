{
 "cells": [
  {
   "cell_type": "markdown",
   "id": "71618332",
   "metadata": {},
   "source": [
    "## Exercise 01"
   ]
  },
  {
   "cell_type": "markdown",
   "id": "93f3f902",
   "metadata": {},
   "source": [
    "### 1"
   ]
  },
  {
   "cell_type": "code",
   "execution_count": 11,
   "id": "c6a6c6d6",
   "metadata": {},
   "outputs": [],
   "source": [
    "empty_tuple = ()"
   ]
  },
  {
   "cell_type": "markdown",
   "id": "64f9ca9c",
   "metadata": {},
   "source": [
    "### 2"
   ]
  },
  {
   "cell_type": "code",
   "execution_count": 12,
   "id": "275c18ae",
   "metadata": {},
   "outputs": [],
   "source": [
    "brothers = ('Mahdi' , 'Gholam' , 'Hasan' , 'Asghar')\n",
    "sisters = ('Kobra' , 'Sheida' , 'Nafas' , 'Soosan')"
   ]
  },
  {
   "cell_type": "markdown",
   "id": "b418e165",
   "metadata": {},
   "source": [
    "### 3"
   ]
  },
  {
   "cell_type": "code",
   "execution_count": 13,
   "id": "9ad253ad",
   "metadata": {},
   "outputs": [
    {
     "name": "stdout",
     "output_type": "stream",
     "text": [
      "('Mahdi', 'Gholam', 'Hasan', 'Asghar', 'Kobra', 'Sheida', 'Nafas', 'Soosan') \n",
      " <class 'tuple'>\n"
     ]
    }
   ],
   "source": [
    "siblings = brothers + sisters\n",
    "print(siblings , '\\n' , type(siblings))"
   ]
  },
  {
   "cell_type": "markdown",
   "id": "477ccd23",
   "metadata": {},
   "source": [
    "### 4"
   ]
  },
  {
   "cell_type": "code",
   "execution_count": 14,
   "id": "66bbccc9",
   "metadata": {},
   "outputs": [
    {
     "name": "stdout",
     "output_type": "stream",
     "text": [
      "number of siblings: 8\n"
     ]
    }
   ],
   "source": [
    "number_of_siblings = len(siblings)\n",
    "print(f'number of siblings: {number_of_siblings}')"
   ]
  },
  {
   "cell_type": "markdown",
   "id": "0b58f74b",
   "metadata": {},
   "source": [
    "### 5"
   ]
  },
  {
   "cell_type": "code",
   "execution_count": 16,
   "id": "748eec67",
   "metadata": {},
   "outputs": [
    {
     "name": "stdout",
     "output_type": "stream",
     "text": [
      "('Mahdi', 'Gholam', 'Hasan', 'Asghar', 'Kobra', 'Sheida', 'Nafas', 'Soosan', 'Ahmad', 'Kolsoom') \n",
      " <class 'tuple'>\n"
     ]
    }
   ],
   "source": [
    "family_members = siblings + ('Ahmad' , 'Kolsoom')\n",
    "print(family_members , '\\n' , type(family_members))"
   ]
  },
  {
   "cell_type": "markdown",
   "id": "944ec511",
   "metadata": {},
   "source": [
    "## Exercise 02"
   ]
  },
  {
   "cell_type": "markdown",
   "id": "ce1e4d79",
   "metadata": {},
   "source": [
    "### 1"
   ]
  },
  {
   "cell_type": "code",
   "execution_count": 50,
   "id": "676093ce",
   "metadata": {},
   "outputs": [],
   "source": [
    "fruits = ('Banana' , 'Apple' ,  'Orange')\n",
    "vegetables = ('Cucumber' , 'Carrot' , 'Yam')\n",
    "animal_products = ('Ham' , 'Meet' , 'Milk')"
   ]
  },
  {
   "cell_type": "markdown",
   "id": "faa518d0",
   "metadata": {},
   "source": [
    "### 2"
   ]
  },
  {
   "cell_type": "code",
   "execution_count": 51,
   "id": "c4f74fa9",
   "metadata": {},
   "outputs": [
    {
     "data": {
      "text/plain": [
       "('Banana',\n",
       " 'Apple',\n",
       " 'Orange',\n",
       " 'Cucumber',\n",
       " 'Carrot',\n",
       " 'Yam',\n",
       " 'Ham',\n",
       " 'Meet',\n",
       " 'Milk')"
      ]
     },
     "execution_count": 51,
     "metadata": {},
     "output_type": "execute_result"
    }
   ],
   "source": [
    "food_stuff_tp = fruits + vegetables + animal_products\n",
    "food_stuff_tp"
   ]
  },
  {
   "cell_type": "markdown",
   "id": "4e954d37",
   "metadata": {},
   "source": [
    "### 3"
   ]
  },
  {
   "cell_type": "code",
   "execution_count": 52,
   "id": "d82f685d",
   "metadata": {},
   "outputs": [
    {
     "data": {
      "text/plain": [
       "['Banana',\n",
       " 'Apple',\n",
       " 'Orange',\n",
       " 'Cucumber',\n",
       " 'Carrot',\n",
       " 'Yam',\n",
       " 'Ham',\n",
       " 'Meet',\n",
       " 'Milk']"
      ]
     },
     "execution_count": 52,
     "metadata": {},
     "output_type": "execute_result"
    }
   ],
   "source": [
    "food_stuff_lt = list(food_stuff_tp)\n",
    "food_stuff_lt"
   ]
  },
  {
   "cell_type": "markdown",
   "id": "9f183848",
   "metadata": {},
   "source": [
    "### 4"
   ]
  },
  {
   "cell_type": "code",
   "execution_count": 53,
   "id": "64a0ede7",
   "metadata": {},
   "outputs": [
    {
     "name": "stdout",
     "output_type": "stream",
     "text": [
      "Middle item: Carrot \n",
      "New list: ['Banana', 'Apple', 'Orange', 'Cucumber', 'Yam', 'Ham', 'Meet', 'Milk']\n"
     ]
    }
   ],
   "source": [
    "middle_item = food_stuff_lt.pop(len(food_stuff_tp)//2)\n",
    "print(f'Middle item: {middle_item} \\nNew list: {food_stuff_lt}')"
   ]
  },
  {
   "cell_type": "markdown",
   "id": "72a35879",
   "metadata": {},
   "source": [
    "### 5"
   ]
  },
  {
   "cell_type": "code",
   "execution_count": 54,
   "id": "689141cf",
   "metadata": {},
   "outputs": [
    {
     "name": "stdout",
     "output_type": "stream",
     "text": [
      "first three items: ['Banana', 'Apple', 'Orange'] \n",
      "last_three_items: ['Yam', 'Ham', 'Meet']\n"
     ]
    }
   ],
   "source": [
    "first_three_items = food_stuff_lt[:3]\n",
    "last_three_items = food_stuff_lt[-4:-1]\n",
    "print(f'first three items: {first_three_items} \\nlast_three_items: {last_three_items}')"
   ]
  },
  {
   "cell_type": "markdown",
   "id": "310d5be5",
   "metadata": {},
   "source": [
    "### 6"
   ]
  },
  {
   "cell_type": "code",
   "execution_count": 55,
   "id": "26b371cf",
   "metadata": {},
   "outputs": [],
   "source": [
    "del food_stuff_tp"
   ]
  },
  {
   "cell_type": "code",
   "execution_count": 56,
   "id": "9b885113",
   "metadata": {},
   "outputs": [
    {
     "ename": "NameError",
     "evalue": "name 'food_stuff_tp' is not defined",
     "output_type": "error",
     "traceback": [
      "\u001b[0;31m---------------------------------------------------------------------------\u001b[0m",
      "\u001b[0;31mNameError\u001b[0m                                 Traceback (most recent call last)",
      "\u001b[0;32m/tmp/ipykernel_12425/848092054.py\u001b[0m in \u001b[0;36m<module>\u001b[0;34m\u001b[0m\n\u001b[0;32m----> 1\u001b[0;31m \u001b[0mfood_stuff_tp\u001b[0m\u001b[0;34m\u001b[0m\u001b[0;34m\u001b[0m\u001b[0m\n\u001b[0m",
      "\u001b[0;31mNameError\u001b[0m: name 'food_stuff_tp' is not defined"
     ]
    }
   ],
   "source": [
    "food_stuff_tp"
   ]
  },
  {
   "cell_type": "markdown",
   "id": "a877bf9b",
   "metadata": {},
   "source": [
    "## Exercise 03"
   ]
  },
  {
   "cell_type": "code",
   "execution_count": 57,
   "id": "18a0761e",
   "metadata": {},
   "outputs": [],
   "source": [
    "nordic_countries = ('Denmark','Finland','Iceland','Norway','Sweden')"
   ]
  },
  {
   "cell_type": "markdown",
   "id": "4c363f84",
   "metadata": {},
   "source": [
    "### 1"
   ]
  },
  {
   "cell_type": "code",
   "execution_count": 58,
   "id": "40724849",
   "metadata": {},
   "outputs": [
    {
     "name": "stdout",
     "output_type": "stream",
     "text": [
      "False\n"
     ]
    }
   ],
   "source": [
    "if 'Estonia' in nordic_countries:\n",
    "    print(True)\n",
    "else:\n",
    "    print(False)"
   ]
  },
  {
   "cell_type": "markdown",
   "id": "b66e6036",
   "metadata": {},
   "source": [
    "### 2"
   ]
  },
  {
   "cell_type": "code",
   "execution_count": 59,
   "id": "6c85dcff",
   "metadata": {},
   "outputs": [
    {
     "name": "stdout",
     "output_type": "stream",
     "text": [
      "True\n"
     ]
    }
   ],
   "source": [
    "if 'Iceland' in nordic_countries:\n",
    "    print(True)\n",
    "else:\n",
    "    print(False)"
   ]
  }
 ],
 "metadata": {
  "kernelspec": {
   "display_name": "Python 3 (ipykernel)",
   "language": "python",
   "name": "python3"
  },
  "language_info": {
   "codemirror_mode": {
    "name": "ipython",
    "version": 3
   },
   "file_extension": ".py",
   "mimetype": "text/x-python",
   "name": "python",
   "nbconvert_exporter": "python",
   "pygments_lexer": "ipython3",
   "version": "3.9.13"
  }
 },
 "nbformat": 4,
 "nbformat_minor": 5
}
