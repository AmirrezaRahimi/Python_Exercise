{
 "cells": [
  {
   "cell_type": "markdown",
   "id": "fbc662bc",
   "metadata": {},
   "source": [
    "## Exercise 1"
   ]
  },
  {
   "cell_type": "code",
   "execution_count": 3,
   "id": "a586612f",
   "metadata": {},
   "outputs": [
    {
     "data": {
      "text/plain": [
       "[1, 3, 5, 7, 9]"
      ]
     },
     "execution_count": 3,
     "metadata": {},
     "output_type": "execute_result"
    }
   ],
   "source": [
    "def odd_number(numbers):\n",
    "    odd_numbers = []\n",
    "    for i in numbers:\n",
    "        if i%2 == 1:\n",
    "            odd_numbers.append(i)\n",
    "    return odd_numbers\n",
    "sample_list = [1,2,3,4,5,6,7,8,9]\n",
    "expected_result = odd_number(sample_list)\n",
    "expected_result"
   ]
  },
  {
   "cell_type": "markdown",
   "id": "9bc2f982",
   "metadata": {},
   "source": [
    "## Exercise 2"
   ]
  },
  {
   "cell_type": "code",
   "execution_count": 10,
   "id": "5b9e5f79",
   "metadata": {},
   "outputs": [
    {
     "name": "stdout",
     "output_type": "stream",
     "text": [
      "input: 7\n",
      "0 1 1 2 3 5 8 "
     ]
    }
   ],
   "source": [
    "def fibonacci(n):\n",
    "    fn_2 = 0\n",
    "    fn_1 = 1\n",
    "    fn = 0\n",
    "    for i in range(n):\n",
    "        print (fn, end = ' ')\n",
    "        fn_2 = fn_1\n",
    "        fn_1 = fn\n",
    "        fn = fn_1 + fn_2\n",
    "n = int(input('input: '))\n",
    "fibonacci(n)"
   ]
  },
  {
   "cell_type": "markdown",
   "id": "b3364b34",
   "metadata": {},
   "source": [
    "## Exercise 3"
   ]
  },
  {
   "cell_type": "code",
   "execution_count": 20,
   "id": "66b86bd8",
   "metadata": {},
   "outputs": [
    {
     "name": "stdout",
     "output_type": "stream",
     "text": [
      "[{'name': 'Azam', 'age': 14}, {'name': 'Sanaz', 'age': 14}, {'name': 'Zahra', 'age': 16}, {'name': 'Zahra', 'age': 17}, {'name': 'AmirHossein', 'age': 18}, {'name': 'Shayan', 'age': 18}]\n"
     ]
    }
   ],
   "source": [
    "employees = [{\"name\": \"Sanaz\", \"age\": 14}, {\"name\": \"AmirHossein\", \"age\": 18}, {\"name\": \"Azam\", \"age\":\n",
    "14}, {\"name\": \"Zahra\", \"age\": 16}, {\"name\": \"Shayan\", \"age\": 18}, {\"name\": \"Zahra\", \"age\": 17}]\n",
    "employees = sorted(employees , key=lambda x : (x['age'],x['name']))\n",
    "print(employees)"
   ]
  }
 ],
 "metadata": {
  "kernelspec": {
   "display_name": "Python 3 (ipykernel)",
   "language": "python",
   "name": "python3"
  },
  "language_info": {
   "codemirror_mode": {
    "name": "ipython",
    "version": 3
   },
   "file_extension": ".py",
   "mimetype": "text/x-python",
   "name": "python",
   "nbconvert_exporter": "python",
   "pygments_lexer": "ipython3",
   "version": "3.9.13"
  }
 },
 "nbformat": 4,
 "nbformat_minor": 5
}
