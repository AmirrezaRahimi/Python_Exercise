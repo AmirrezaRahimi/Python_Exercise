{
 "cells": [
  {
   "cell_type": "markdown",
   "id": "fd088fa3",
   "metadata": {},
   "source": [
    "## Exercise 01"
   ]
  },
  {
   "cell_type": "code",
   "execution_count": 12,
   "id": "7e946ba3",
   "metadata": {},
   "outputs": [
    {
     "name": "stdout",
     "output_type": "stream",
     "text": [
      "input: Filoger\n",
      "output: {'f': 1, 'i': 1, 'l': 1, 'o': 1, 'g': 1, 'e': 1, 'r': 1}\n"
     ]
    }
   ],
   "source": [
    "string = input('input: ')\n",
    "string = string.lower()\n",
    "dictionary = {}\n",
    "for i in string:\n",
    "    dictionary[i] = dictionary[i] + 1 if i in dictionary else 1\n",
    "print(f'output: {dictionary}')"
   ]
  },
  {
   "cell_type": "markdown",
   "id": "8410c540",
   "metadata": {},
   "source": [
    "## Exercise 02"
   ]
  },
  {
   "cell_type": "code",
   "execution_count": 17,
   "id": "f3ddf7cb",
   "metadata": {},
   "outputs": [
    {
     "data": {
      "text/plain": [
       "'chatGPT is the border of science and innovation!'"
      ]
     },
     "execution_count": 17,
     "metadata": {},
     "output_type": "execute_result"
    }
   ],
   "source": [
    "text = 'Google is the border of science and innovation!'\n",
    "text = text.replace('Google' , 'chatGPT')\n",
    "text"
   ]
  },
  {
   "cell_type": "markdown",
   "id": "b5a79968",
   "metadata": {},
   "source": [
    "## Exercise 03"
   ]
  },
  {
   "cell_type": "code",
   "execution_count": 25,
   "id": "038126df",
   "metadata": {},
   "outputs": [],
   "source": [
    "from datetime import datetime"
   ]
  },
  {
   "cell_type": "code",
   "execution_count": 45,
   "id": "1c2f7f3a",
   "metadata": {},
   "outputs": [
    {
     "name": "stdout",
     "output_type": "stream",
     "text": [
      "Current date is Mar 05 2023, and the time is 12:33\n"
     ]
    }
   ],
   "source": [
    "now = datetime.now()\n",
    "print(f'Current date is {now.strftime(\"%b %d %Y\")}, and the time is {now.strftime(\"%H:%M\")}')"
   ]
  },
  {
   "cell_type": "markdown",
   "id": "074e9e36",
   "metadata": {},
   "source": [
    "## Exercise 04"
   ]
  },
  {
   "cell_type": "code",
   "execution_count": 60,
   "id": "94006e28",
   "metadata": {},
   "outputs": [
    {
     "name": "stdout",
     "output_type": "stream",
     "text": [
      "Filoger is repeated 3 time in the text!\n"
     ]
    }
   ],
   "source": [
    "text = \"\"\"about FILOGER: Filoger is an educational institute that focuses on AI. filoger is the biggest farsi-speakers AI community.\"\"\"\n",
    "text = text.lower()\n",
    "count = text.count('filoger')\n",
    "print(f'Filoger is repeated {count} time in the text!')"
   ]
  }
 ],
 "metadata": {
  "kernelspec": {
   "display_name": "Python 3 (ipykernel)",
   "language": "python",
   "name": "python3"
  },
  "language_info": {
   "codemirror_mode": {
    "name": "ipython",
    "version": 3
   },
   "file_extension": ".py",
   "mimetype": "text/x-python",
   "name": "python",
   "nbconvert_exporter": "python",
   "pygments_lexer": "ipython3",
   "version": "3.9.13"
  }
 },
 "nbformat": 4,
 "nbformat_minor": 5
}
