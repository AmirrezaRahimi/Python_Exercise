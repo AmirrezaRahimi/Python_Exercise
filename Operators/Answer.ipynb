{
 "cells": [
  {
   "cell_type": "markdown",
   "id": "fb717c62",
   "metadata": {},
   "source": [
    "## Exercise 01"
   ]
  },
  {
   "cell_type": "code",
   "execution_count": 3,
   "id": "bfab061d",
   "metadata": {},
   "outputs": [],
   "source": [
    "import math"
   ]
  },
  {
   "cell_type": "code",
   "execution_count": 9,
   "id": "b5d21a4b",
   "metadata": {},
   "outputs": [
    {
     "name": "stdout",
     "output_type": "stream",
     "text": [
      "diameter= 18\n",
      "Circle area is 254.46900494077323\n"
     ]
    }
   ],
   "source": [
    "diameter = float(input('diameter= '))\n",
    "circle_area = ((diameter/2)**2)*(math.pi)\n",
    "print('Circle area is {}'.format(circle_area))"
   ]
  },
  {
   "cell_type": "markdown",
   "id": "621fef74",
   "metadata": {},
   "source": [
    "## Exercise 02"
   ]
  },
  {
   "cell_type": "code",
   "execution_count": 8,
   "id": "8ff0ddf4",
   "metadata": {},
   "outputs": [
    {
     "name": "stdout",
     "output_type": "stream",
     "text": [
      "width= 18\n",
      "heigth= 4\n",
      "length= 5\n",
      "Voume of cuboid is 360.0 and Surface area of cuboid is 364.0\n"
     ]
    }
   ],
   "source": [
    "width = float(input('width= '))\n",
    "heigth = float(input('heigth= '))\n",
    "length = float(input('length= '))\n",
    "surface= 2*(width*heigth + width*length + heigth*length)\n",
    "volume= width*heigth*length\n",
    "print ('Voume of cuboid is {0} and Surface area of cuboid is {1}'.format(volume,surface))"
   ]
  },
  {
   "cell_type": "markdown",
   "id": "d3a96367",
   "metadata": {},
   "source": [
    "## Exercise 03"
   ]
  },
  {
   "cell_type": "code",
   "execution_count": 11,
   "id": "5fc7d9e3",
   "metadata": {},
   "outputs": [
    {
     "name": "stdout",
     "output_type": "stream",
     "text": [
      "8\n",
      "4\n",
      "sum = 12, division= 2.0, subtraction= 4, multiplication= 32\n"
     ]
    }
   ],
   "source": [
    "number1 = int(input())\n",
    "number2 = int(input())\n",
    "sumation = number1 + number2\n",
    "division = number1 / number2\n",
    "subtraction = number1 - number2\n",
    "multiplication = number1 * number2\n",
    "print ('sum = {0}, division= {1}, subtraction= {2}, multiplication= {3}'.format(sumation, division, subtraction, multiplication))"
   ]
  },
  {
   "cell_type": "markdown",
   "id": "c4a95c5d",
   "metadata": {},
   "source": [
    "## Exercise 04"
   ]
  },
  {
   "cell_type": "code",
   "execution_count": 12,
   "id": "5b5bf96f",
   "metadata": {},
   "outputs": [
    {
     "name": "stdout",
     "output_type": "stream",
     "text": [
      "string_1\n",
      "string_2\n",
      "result is \"string_1 string_2\"\n"
     ]
    }
   ],
   "source": [
    "string_1 = input()\n",
    "string_2 = input()\n",
    "print('result is \"{0} {1}\"'.format(string_1, string_2))"
   ]
  },
  {
   "cell_type": "markdown",
   "id": "49251120",
   "metadata": {},
   "source": [
    "## Exercise 05"
   ]
  },
  {
   "cell_type": "code",
   "execution_count": 17,
   "id": "8b25468e",
   "metadata": {},
   "outputs": [
    {
     "name": "stdout",
     "output_type": "stream",
     "text": [
      "86\n",
      "86 degree Fahranheit is equal to 30.0 degree Celsius\n"
     ]
    }
   ],
   "source": [
    "fahrenheit = int(input())\n",
    "celsius = (fahrenheit - 32)*5/9\n",
    "print ('{0} degree Fahranheit is equal to {1} degree Celsius'.format(fahrenheit, celsius))"
   ]
  },
  {
   "cell_type": "markdown",
   "id": "62ff7dc6",
   "metadata": {},
   "source": [
    "## Exercise 06"
   ]
  },
  {
   "cell_type": "code",
   "execution_count": 18,
   "id": "c768b070",
   "metadata": {},
   "outputs": [
    {
     "name": "stdout",
     "output_type": "stream",
     "text": [
      "#\n",
      "##\n",
      "###\n",
      "####\n",
      "#####\n",
      "######\n",
      "#######\n"
     ]
    }
   ],
   "source": [
    "for i in range(1,8):\n",
    "    print('#'*i)"
   ]
  }
 ],
 "metadata": {
  "kernelspec": {
   "display_name": "Python 3 (ipykernel)",
   "language": "python",
   "name": "python3"
  },
  "language_info": {
   "codemirror_mode": {
    "name": "ipython",
    "version": 3
   },
   "file_extension": ".py",
   "mimetype": "text/x-python",
   "name": "python",
   "nbconvert_exporter": "python",
   "pygments_lexer": "ipython3",
   "version": "3.10.5"
  },
  "vscode": {
   "interpreter": {
    "hash": "8c3d4d9970fc5c09c50d9318a9c7fbf4d0159e4b28833276f5678ee22bded273"
   }
  }
 },
 "nbformat": 4,
 "nbformat_minor": 5
}
