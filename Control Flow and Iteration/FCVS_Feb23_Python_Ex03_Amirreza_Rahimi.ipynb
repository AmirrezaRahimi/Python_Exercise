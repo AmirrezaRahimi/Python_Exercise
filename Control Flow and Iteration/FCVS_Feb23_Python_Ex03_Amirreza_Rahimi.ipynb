{
 "cells": [
  {
   "cell_type": "markdown",
   "id": "8d5962d5",
   "metadata": {},
   "source": [
    "## Exercise 01"
   ]
  },
  {
   "cell_type": "code",
   "execution_count": 3,
   "id": "e9ce26bb",
   "metadata": {},
   "outputs": [
    {
     "name": "stdout",
     "output_type": "stream",
     "text": [
      "input: 9\n",
      "Factorial of 9 is 362880\n"
     ]
    }
   ],
   "source": [
    "number = int(input('input: '))\n",
    "factorial = 1\n",
    "for i in range(1,number+1):\n",
    "    factorial *= i\n",
    "print(f'Factorial of {number} is {factorial}')"
   ]
  },
  {
   "cell_type": "markdown",
   "id": "30c2b418",
   "metadata": {},
   "source": [
    "## Exercise 02"
   ]
  },
  {
   "cell_type": "code",
   "execution_count": 4,
   "id": "94e0ec47",
   "metadata": {},
   "outputs": [],
   "source": [
    "import random"
   ]
  },
  {
   "cell_type": "code",
   "execution_count": 19,
   "id": "2b356197",
   "metadata": {},
   "outputs": [
    {
     "name": "stdout",
     "output_type": "stream",
     "text": [
      "Guessed Number: 50\n",
      "Wrong, Guess the lower number!\n",
      "Guessed Number: 25\n",
      "Wrong, Guess the higher number!\n",
      "Guessed Number: 32\n",
      "Wrong, Guess the lower number!\n",
      "Guessed Number: 30\n",
      "Correct,good job\n"
     ]
    }
   ],
   "source": [
    "generated_number = random.randint(1,100)\n",
    "guessed_number = int(input('Guessed Number: '))\n",
    "while True:\n",
    "    if guessed_number > generated_number :\n",
    "        print ('Wrong, Guess the lower number!')\n",
    "    elif guessed_number < generated_number :\n",
    "        print('Wrong, Guess the higher number!')\n",
    "    else:\n",
    "        print('Correct,good job')\n",
    "        break\n",
    "    guessed_number = int(input('Guessed Number: '))"
   ]
  },
  {
   "cell_type": "markdown",
   "id": "4125bbef",
   "metadata": {},
   "source": [
    "## Exercise 03"
   ]
  },
  {
   "cell_type": "code",
   "execution_count": 20,
   "id": "788a7e36",
   "metadata": {},
   "outputs": [
    {
     "name": "stdout",
     "output_type": "stream",
     "text": [
      "0 x 0 = 0\n",
      "1 x 1 = 1\n",
      "2 x 2 = 4\n",
      "3 x 3 = 9\n",
      "4 x 4 = 16\n",
      "5 x 5 = 25\n",
      "6 x 6 = 36\n",
      "7 x 7 = 49\n",
      "8 x 8 = 64\n",
      "9 x 9 = 81\n",
      "10 x 10 = 100\n"
     ]
    }
   ],
   "source": [
    "for i in range(11):\n",
    "    print(f'{i} x {i} = {i**2}')"
   ]
  },
  {
   "cell_type": "markdown",
   "id": "87283f01",
   "metadata": {},
   "source": [
    "## Exercise 04"
   ]
  },
  {
   "cell_type": "code",
   "execution_count": 21,
   "id": "f220d91a",
   "metadata": {},
   "outputs": [
    {
     "name": "stdout",
     "output_type": "stream",
     "text": [
      "input: 100\n",
      "The sum of all numbers is 5050\n"
     ]
    }
   ],
   "source": [
    "sumation = 0\n",
    "n = int(input('input: '))\n",
    "for i in range(1,n+1):\n",
    "    sumation += i\n",
    "print(f'The sum of all numbers is {sumation}')"
   ]
  },
  {
   "cell_type": "markdown",
   "id": "c1f7a994",
   "metadata": {},
   "source": [
    "## Exercise 05"
   ]
  },
  {
   "cell_type": "code",
   "execution_count": 26,
   "id": "2a3bd9a2",
   "metadata": {},
   "outputs": [
    {
     "name": "stdout",
     "output_type": "stream",
     "text": [
      "['lemon', 'mango', 'orange', 'banana']\n"
     ]
    }
   ],
   "source": [
    "fruits = ['banana','orange','mango','lemon']\n",
    "reverse_fruit = []\n",
    "for fruit in fruits:\n",
    "    reverse_fruit = [fruit] + reverse_fruit\n",
    "print (reverse_fruit)"
   ]
  },
  {
   "cell_type": "markdown",
   "id": "48f060cc",
   "metadata": {},
   "source": [
    "## Exercise 06"
   ]
  },
  {
   "cell_type": "code",
   "execution_count": 30,
   "id": "94f2b58d",
   "metadata": {},
   "outputs": [
    {
     "name": "stdout",
     "output_type": "stream",
     "text": [
      "201\n"
     ]
    }
   ],
   "source": [
    "numbers = [8,120,83,89,24,97,5,201]\n",
    "maximum = numbers[0]\n",
    "for num in numbers:\n",
    "    maximum = num if num >= maximum else maximum\n",
    "print(maximum)"
   ]
  }
 ],
 "metadata": {
  "kernelspec": {
   "display_name": "Python 3 (ipykernel)",
   "language": "python",
   "name": "python3"
  },
  "language_info": {
   "codemirror_mode": {
    "name": "ipython",
    "version": 3
   },
   "file_extension": ".py",
   "mimetype": "text/x-python",
   "name": "python",
   "nbconvert_exporter": "python",
   "pygments_lexer": "ipython3",
   "version": "3.10.6"
  }
 },
 "nbformat": 4,
 "nbformat_minor": 5
}
