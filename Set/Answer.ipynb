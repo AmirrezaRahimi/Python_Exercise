{
 "cells": [
  {
   "cell_type": "markdown",
   "id": "d71c3fbe",
   "metadata": {},
   "source": [
    "## Exercise 01"
   ]
  },
  {
   "cell_type": "code",
   "execution_count": 16,
   "id": "331b0d5b",
   "metadata": {},
   "outputs": [],
   "source": [
    "it_companies = {'Facebook','Google','Microsoft',\n",
    "                'Apple','IBM','Oracle','Amazon'}"
   ]
  },
  {
   "cell_type": "markdown",
   "id": "22705dbe",
   "metadata": {},
   "source": [
    "### 1"
   ]
  },
  {
   "cell_type": "code",
   "execution_count": 17,
   "id": "dad6beeb",
   "metadata": {},
   "outputs": [
    {
     "name": "stdout",
     "output_type": "stream",
     "text": [
      "lemngth of set: 7\n"
     ]
    }
   ],
   "source": [
    "print(f\"lemngth of set: {len(it_companies)}\")"
   ]
  },
  {
   "cell_type": "markdown",
   "id": "1ed3085f",
   "metadata": {},
   "source": [
    "### 2"
   ]
  },
  {
   "cell_type": "code",
   "execution_count": 18,
   "id": "60b36495",
   "metadata": {},
   "outputs": [
    {
     "data": {
      "text/plain": [
       "{'Amazon',\n",
       " 'Apple',\n",
       " 'Facebook',\n",
       " 'Google',\n",
       " 'IBM',\n",
       " 'Microsoft',\n",
       " 'Oracle',\n",
       " 'Twitter'}"
      ]
     },
     "execution_count": 18,
     "metadata": {},
     "output_type": "execute_result"
    }
   ],
   "source": [
    "it_companies.add('Twitter')\n",
    "it_companies"
   ]
  },
  {
   "cell_type": "markdown",
   "id": "24abbb0a",
   "metadata": {},
   "source": [
    "### 3"
   ]
  },
  {
   "cell_type": "code",
   "execution_count": 19,
   "id": "da0592a1",
   "metadata": {},
   "outputs": [
    {
     "data": {
      "text/plain": [
       "{'Amazon',\n",
       " 'Apple',\n",
       " 'Digikala',\n",
       " 'Divar',\n",
       " 'Facebook',\n",
       " 'Google',\n",
       " 'IBM',\n",
       " 'Microsoft',\n",
       " 'Oracle',\n",
       " 'Sanpp',\n",
       " 'Twitter'}"
      ]
     },
     "execution_count": 19,
     "metadata": {},
     "output_type": "execute_result"
    }
   ],
   "source": [
    "it_companies.update({'Digikala' , 'Sanpp' , 'Divar'})\n",
    "it_companies"
   ]
  },
  {
   "cell_type": "markdown",
   "id": "d3d25591",
   "metadata": {},
   "source": [
    "### 4"
   ]
  },
  {
   "cell_type": "code",
   "execution_count": 20,
   "id": "d727104e",
   "metadata": {
    "scrolled": true
   },
   "outputs": [
    {
     "data": {
      "text/plain": [
       "{'Amazon',\n",
       " 'Apple',\n",
       " 'Digikala',\n",
       " 'Divar',\n",
       " 'Facebook',\n",
       " 'IBM',\n",
       " 'Microsoft',\n",
       " 'Oracle',\n",
       " 'Sanpp',\n",
       " 'Twitter'}"
      ]
     },
     "execution_count": 20,
     "metadata": {},
     "output_type": "execute_result"
    }
   ],
   "source": [
    "it_companies.remove('Google')\n",
    "it_companies"
   ]
  },
  {
   "cell_type": "markdown",
   "id": "d86b1343",
   "metadata": {},
   "source": [
    "### 5\n",
    "\n",
    "the remove() method will raise an error if the specified item does not exist, and the discard() method will not."
   ]
  },
  {
   "cell_type": "markdown",
   "id": "0cc3d53f",
   "metadata": {},
   "source": [
    "## Exercise 02"
   ]
  },
  {
   "cell_type": "code",
   "execution_count": 21,
   "id": "fb7ff84f",
   "metadata": {},
   "outputs": [],
   "source": [
    "age = [22,19,24,25,26,24,25,24]"
   ]
  },
  {
   "cell_type": "code",
   "execution_count": 22,
   "id": "b9838e11",
   "metadata": {},
   "outputs": [
    {
     "data": {
      "text/plain": [
       "{19, 22, 24, 25, 26}"
      ]
     },
     "execution_count": 22,
     "metadata": {},
     "output_type": "execute_result"
    }
   ],
   "source": [
    "age_set = set(age)\n",
    "age_set "
   ]
  },
  {
   "cell_type": "code",
   "execution_count": 24,
   "id": "327ff6eb",
   "metadata": {},
   "outputs": [
    {
     "name": "stdout",
     "output_type": "stream",
     "text": [
      "length of list: 8\n",
      "length of set: 5\n"
     ]
    }
   ],
   "source": [
    "print(f'length of list: {len(age)}')\n",
    "print(f'length of set: {len(age_set)}')"
   ]
  },
  {
   "cell_type": "markdown",
   "id": "9171b22b",
   "metadata": {},
   "source": [
    "length of list is bigger than length of set because there are no duplicate items in set."
   ]
  },
  {
   "cell_type": "markdown",
   "id": "176e9c6f",
   "metadata": {},
   "source": [
    "## Exercise 03"
   ]
  },
  {
   "cell_type": "code",
   "execution_count": 26,
   "id": "785c769f",
   "metadata": {
    "scrolled": true
   },
   "outputs": [
    {
     "name": "stdout",
     "output_type": "stream",
     "text": [
      "words: ['I', 'am', 'a', 'teacher', 'and', 'I', 'love', 'to', 'inspire', 'and', 'teach', 'people.']\n",
      "unique words: {'am', 'people.', 'and', 'inspire', 'love', 'teach', 'teacher', 'I', 'a', 'to'}\n"
     ]
    }
   ],
   "source": [
    "sentence = \"I am a teacher and I love to inspire and teach people.\"\n",
    "words = sentence.split()\n",
    "print(f'words: {words}')\n",
    "unique_words = set(words)\n",
    "print(f'unique words: {unique_words}')"
   ]
  },
  {
   "cell_type": "code",
   "execution_count": 27,
   "id": "e7524fbb",
   "metadata": {},
   "outputs": [
    {
     "name": "stdout",
     "output_type": "stream",
     "text": [
      "number of unique words: 10\n"
     ]
    }
   ],
   "source": [
    "print(f'number of unique words: {len(unique_words)}')"
   ]
  }
 ],
 "metadata": {
  "kernelspec": {
   "display_name": "Python 3 (ipykernel)",
   "language": "python",
   "name": "python3"
  },
  "language_info": {
   "codemirror_mode": {
    "name": "ipython",
    "version": 3
   },
   "file_extension": ".py",
   "mimetype": "text/x-python",
   "name": "python",
   "nbconvert_exporter": "python",
   "pygments_lexer": "ipython3",
   "version": "3.9.13"
  }
 },
 "nbformat": 4,
 "nbformat_minor": 5
}
