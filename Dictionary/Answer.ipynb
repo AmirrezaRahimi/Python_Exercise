{
 "cells": [
  {
   "cell_type": "markdown",
   "id": "6a23b308",
   "metadata": {},
   "source": [
    "## Exercise 01"
   ]
  },
  {
   "cell_type": "markdown",
   "id": "e72c5a75",
   "metadata": {},
   "source": [
    "### 1"
   ]
  },
  {
   "cell_type": "code",
   "execution_count": 1,
   "id": "5515c05f",
   "metadata": {},
   "outputs": [],
   "source": [
    "dog = {}"
   ]
  },
  {
   "cell_type": "markdown",
   "id": "391dadec",
   "metadata": {},
   "source": [
    "### 2"
   ]
  },
  {
   "cell_type": "code",
   "execution_count": 3,
   "id": "6d1ff010",
   "metadata": {},
   "outputs": [
    {
     "data": {
      "text/plain": [
       "{'name': 'Hero', 'color': 'cream', 'breed': 'Sarab', 'legs': 4, 'age': 2}"
      ]
     },
     "execution_count": 3,
     "metadata": {},
     "output_type": "execute_result"
    }
   ],
   "source": [
    "dog[\"name\"] = \"Hero\"\n",
    "dog[\"color\"] = \"cream\"\n",
    "dog[\"breed\"] = \"Sarab\"\n",
    "dog[\"legs\"] = 4\n",
    "dog[\"age\"] = 2\n",
    "dog"
   ]
  },
  {
   "cell_type": "markdown",
   "id": "6249290b",
   "metadata": {},
   "source": [
    "## Exercise 02"
   ]
  },
  {
   "cell_type": "markdown",
   "id": "a34e5e6d",
   "metadata": {},
   "source": [
    "### 1"
   ]
  },
  {
   "cell_type": "code",
   "execution_count": 18,
   "id": "13be5d39",
   "metadata": {},
   "outputs": [
    {
     "data": {
      "text/plain": [
       "{'first_name': 'Amirreza',\n",
       " 'last_name': 'Rahimi',\n",
       " 'gender': 'male',\n",
       " 'age': 21,\n",
       " 'skills': ['math', 'programming'],\n",
       " 'country': 'Iran',\n",
       " 'city': 'Tehran',\n",
       " 'address': 'Naziabad'}"
      ]
     },
     "execution_count": 18,
     "metadata": {},
     "output_type": "execute_result"
    }
   ],
   "source": [
    "student = {'first_name' : 'Amirreza' , 'last_name' : 'Rahimi' ,\n",
    "          'gender' : 'male' , 'age' : 21 , 'skills' : ['math', 'programming'],\n",
    "         'country' : 'Iran' , 'city' : 'Tehran' , 'address' : 'Naziabad'}\n",
    "sudent"
   ]
  },
  {
   "cell_type": "markdown",
   "id": "43c6ccfe",
   "metadata": {},
   "source": [
    "### 2"
   ]
  },
  {
   "cell_type": "code",
   "execution_count": 19,
   "id": "bfea6cdd",
   "metadata": {},
   "outputs": [
    {
     "name": "stdout",
     "output_type": "stream",
     "text": [
      "length of student dictionary is 8\n"
     ]
    }
   ],
   "source": [
    "print(f\"length of student dictionary is {len(student)}\")"
   ]
  },
  {
   "cell_type": "markdown",
   "id": "8c5d3192",
   "metadata": {},
   "source": [
    "### 3"
   ]
  },
  {
   "cell_type": "code",
   "execution_count": 20,
   "id": "792e6c35",
   "metadata": {},
   "outputs": [
    {
     "name": "stdout",
     "output_type": "stream",
     "text": [
      "value of skills: ['math', 'programming']\n"
     ]
    }
   ],
   "source": [
    "print(f\"value of skills: {student['skills']}\")"
   ]
  },
  {
   "cell_type": "code",
   "execution_count": 21,
   "id": "c7228bef",
   "metadata": {},
   "outputs": [
    {
     "name": "stdout",
     "output_type": "stream",
     "text": [
      "data type: <class 'list'>\n"
     ]
    }
   ],
   "source": [
    "print(f\"data type: {type(student['skills'])}\")"
   ]
  },
  {
   "cell_type": "markdown",
   "id": "577cc622",
   "metadata": {},
   "source": [
    "### 4"
   ]
  },
  {
   "cell_type": "code",
   "execution_count": 22,
   "id": "77831000",
   "metadata": {},
   "outputs": [
    {
     "data": {
      "text/plain": [
       "['math', 'programming', 'painting']"
      ]
     },
     "execution_count": 22,
     "metadata": {},
     "output_type": "execute_result"
    }
   ],
   "source": [
    "student['skills'].append('painting')\n",
    "student['skills']"
   ]
  },
  {
   "cell_type": "markdown",
   "id": "65fc690f",
   "metadata": {},
   "source": [
    "### 5"
   ]
  },
  {
   "cell_type": "code",
   "execution_count": 23,
   "id": "679e1748",
   "metadata": {},
   "outputs": [
    {
     "data": {
      "text/plain": [
       "['first_name',\n",
       " 'last_name',\n",
       " 'gender',\n",
       " 'age',\n",
       " 'skills',\n",
       " 'country',\n",
       " 'city',\n",
       " 'address']"
      ]
     },
     "execution_count": 23,
     "metadata": {},
     "output_type": "execute_result"
    }
   ],
   "source": [
    "keys = list(student.keys())\n",
    "keys"
   ]
  },
  {
   "cell_type": "markdown",
   "id": "9d9e0b1a",
   "metadata": {},
   "source": [
    "### 6"
   ]
  },
  {
   "cell_type": "code",
   "execution_count": 24,
   "id": "f39e1387",
   "metadata": {},
   "outputs": [
    {
     "data": {
      "text/plain": [
       "['Amirreza',\n",
       " 'Rahimi',\n",
       " 'male',\n",
       " 21,\n",
       " ['math', 'programming', 'painting'],\n",
       " 'Iran',\n",
       " 'Tehran',\n",
       " 'Naziabad']"
      ]
     },
     "execution_count": 24,
     "metadata": {},
     "output_type": "execute_result"
    }
   ],
   "source": [
    "values = list(student.values())\n",
    "values"
   ]
  },
  {
   "cell_type": "markdown",
   "id": "178e9196",
   "metadata": {},
   "source": [
    "### 7"
   ]
  },
  {
   "cell_type": "code",
   "execution_count": 26,
   "id": "4a30ce5b",
   "metadata": {},
   "outputs": [
    {
     "data": {
      "text/plain": [
       "[('first_name', 'Amirreza'),\n",
       " ('last_name', 'Rahimi'),\n",
       " ('gender', 'male'),\n",
       " ('age', 21),\n",
       " ('skills', ['math', 'programming', 'painting']),\n",
       " ('country', 'Iran'),\n",
       " ('city', 'Tehran'),\n",
       " ('address', 'Naziabad')]"
      ]
     },
     "execution_count": 26,
     "metadata": {},
     "output_type": "execute_result"
    }
   ],
   "source": [
    "list_of_tuples = list(student.items())\n",
    "list_of_tuples"
   ]
  },
  {
   "cell_type": "markdown",
   "id": "d98a7df2",
   "metadata": {},
   "source": [
    "### 8"
   ]
  },
  {
   "cell_type": "code",
   "execution_count": 27,
   "id": "b60c90b0",
   "metadata": {
    "scrolled": true
   },
   "outputs": [
    {
     "data": {
      "text/plain": [
       "{'first_name': 'Amirreza',\n",
       " 'last_name': 'Rahimi',\n",
       " 'gender': 'male',\n",
       " 'age': 21,\n",
       " 'skills': ['math', 'programming', 'painting'],\n",
       " 'country': 'Iran',\n",
       " 'address': 'Naziabad'}"
      ]
     },
     "execution_count": 27,
     "metadata": {},
     "output_type": "execute_result"
    }
   ],
   "source": [
    "del student[\"city\"]\n",
    "student"
   ]
  },
  {
   "cell_type": "markdown",
   "id": "ac25ade2",
   "metadata": {},
   "source": [
    "### 9"
   ]
  },
  {
   "cell_type": "code",
   "execution_count": 28,
   "id": "142b7675",
   "metadata": {},
   "outputs": [],
   "source": [
    "del student"
   ]
  },
  {
   "cell_type": "code",
   "execution_count": 29,
   "id": "29dadeb8",
   "metadata": {},
   "outputs": [
    {
     "ename": "NameError",
     "evalue": "name 'student' is not defined",
     "output_type": "error",
     "traceback": [
      "\u001b[0;31m---------------------------------------------------------------------------\u001b[0m",
      "\u001b[0;31mNameError\u001b[0m                                 Traceback (most recent call last)",
      "\u001b[0;32m/tmp/ipykernel_16311/2837240772.py\u001b[0m in \u001b[0;36m<module>\u001b[0;34m\u001b[0m\n\u001b[0;32m----> 1\u001b[0;31m \u001b[0mstudent\u001b[0m\u001b[0;34m\u001b[0m\u001b[0;34m\u001b[0m\u001b[0m\n\u001b[0m",
      "\u001b[0;31mNameError\u001b[0m: name 'student' is not defined"
     ]
    }
   ],
   "source": [
    "student"
   ]
  }
 ],
 "metadata": {
  "kernelspec": {
   "display_name": "Python 3 (ipykernel)",
   "language": "python",
   "name": "python3"
  },
  "language_info": {
   "codemirror_mode": {
    "name": "ipython",
    "version": 3
   },
   "file_extension": ".py",
   "mimetype": "text/x-python",
   "name": "python",
   "nbconvert_exporter": "python",
   "pygments_lexer": "ipython3",
   "version": "3.9.13"
  }
 },
 "nbformat": 4,
 "nbformat_minor": 5
}
